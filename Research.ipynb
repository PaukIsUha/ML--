{
 "cells": [
  {
   "cell_type": "code",
   "execution_count": 1,
   "metadata": {},
   "outputs": [
    {
     "data": {
      "text/plain": [
       "3589918"
      ]
     },
     "execution_count": 1,
     "metadata": {},
     "output_type": "execute_result"
    }
   ],
   "source": [
    "import pandas as pd\n",
    "import numpy as np\n",
    "\n",
    "df = pd.read_csv('train.csv', encoding='utf8')\n",
    "len(df)"
   ]
  },
  {
   "cell_type": "code",
   "execution_count": 2,
   "metadata": {},
   "outputs": [],
   "source": [
    "df_alone = df.copy()"
   ]
  },
  {
   "cell_type": "markdown",
   "metadata": {},
   "source": [
    "Для простоты переведем 'quarter' в числа year * 3 + quarter_num"
   ]
  },
  {
   "cell_type": "code",
   "execution_count": 3,
   "metadata": {},
   "outputs": [],
   "source": [
    "def quarter_to_num(txt):\n",
    "    arr = txt.split('Q')\n",
    "    return int(arr[0]) * 4 + int(arr[1])\n",
    "\n",
    "def date_to_month_num(txt):\n",
    "    if txt != txt:\n",
    "        return None\n",
    "    arr = txt.split('-')\n",
    "    return int(arr[0]) * 12 + int(arr[1])\n",
    "\n",
    "df_alone['quarter'] = df_alone['quarter'].apply(lambda x: quarter_to_num(x))"
   ]
  },
  {
   "cell_type": "markdown",
   "metadata": {},
   "source": [
    "Нам достаточно признаков о клиенте по клиенту, не будем учитывать его порядковый номер, как и порядковый номер заказа, postal_coвe - почти везде None"
   ]
  },
  {
   "cell_type": "code",
   "execution_count": 4,
   "metadata": {},
   "outputs": [],
   "source": [
    "df_alone = df_alone.drop(columns=['client_id', 'npo_account_id', 'postal_code',])"
   ]
  },
  {
   "cell_type": "markdown",
   "metadata": {},
   "source": [
    "Как видно slctn_nmbr это номер выборки из которой пришли эти данные, это может быть значимым моментом, поэотму закодируем их OneHot"
   ]
  },
  {
   "cell_type": "code",
   "execution_count": 5,
   "metadata": {},
   "outputs": [],
   "source": [
    "df_alone = pd.get_dummies(df_alone, columns=['slctn_nmbr'], prefix='slctn_nmbr', drop_first=True)"
   ]
  },
  {
   "cell_type": "markdown",
   "metadata": {},
   "source": [
    "Загрузим уровень инфляции в РФ за каждый месяц"
   ]
  },
  {
   "cell_type": "code",
   "execution_count": 6,
   "metadata": {},
   "outputs": [],
   "source": [
    "infl = {'2023-01': 11.76, '2023-02': 10.97, '2023-03': 3.51, '2023-04': 2.3, '2023-05': 2.5, '2023-06': 3.24, '2023-07': 4.3, '2023-08': 5.13, '2023-09': 6.0, '2023-10': 6.68, '2023-11': 7.47, '2023-12': 7.42, '2023-13': 7.42, '2022-01': 8.74, '2022-02': 9.16, '2022-03': 16.7, '2022-04': 17.83, '2022-05': 17.11, '2022-06': 15.9, '2022-07': 15.09, '2022-08': 14.3, '2022-09': 13.67, '2022-10': 12.63, '2022-11': 11.97, '2022-12': 11.92, '2022-13': 11.92, '2021-01': 5.19, '2021-02': 5.67, '2021-03': 5.78, '2021-04': 5.52, '2021-05': 6.01, '2021-06': 6.51, '2021-07': 6.47, '2021-08': 6.69, '2021-09': 7.41, '2021-10': 8.14, '2021-11': 8.4, '2021-12': 8.39, '2021-13': 8.39, '2020-01': 2.42, '2020-02': 2.31, '2020-03': 2.55, '2020-04': 3.1, '2020-05': 3.03, '2020-06': 3.21, '2020-07': 3.37, '2020-08': 3.57, '2020-09': 3.67, '2020-10': 3.98, '2020-11': 4.42, '2020-12': 4.91, '2020-13': 4.91, '2019-01': 5.0, '2019-02': 5.24, '2019-03': 5.27, '2019-04': 5.17, '2019-05': 5.13, '2019-06': 4.66, '2019-07': 4.59, '2019-08': 4.33, '2019-09': 3.99, '2019-10': 3.77, '2019-11': 3.54, '2019-12': 3.05, '2019-13': 3.05, '2018-01': 2.21, '2018-02': 2.2, '2018-03': 2.36, '2018-04': 2.41, '2018-05': 2.42, '2018-06': 2.3, '2018-07': 2.5, '2018-08': 3.07, '2018-09': 3.39, '2018-10': 3.55, '2018-11': 3.83, '2018-12': 4.27, '2018-13': 4.27, '2017-01': 5.02, '2017-02': 4.59, '2017-03': 4.25, '2017-04': 4.13, '2017-05': 4.09, '2017-06': 4.35, '2017-07': 3.86, '2017-08': 3.29, '2017-09': 2.96, '2017-10': 2.73, '2017-11': 2.5, '2017-12': 2.52, '2017-13': 2.52, '2016-01': 9.77, '2016-02': 8.06, '2016-03': 7.26, '2016-04': 7.24, '2016-05': 7.3, '2016-06': 7.48, '2016-07': 7.21, '2016-08': 6.84, '2016-09': 6.42, '2016-10': 6.09, '2016-11': 5.76, '2016-12': 5.38, '2016-13': 5.38, '2015-01': 14.97, '2015-02': 16.71, '2015-03': 16.93, '2015-04': 16.42, '2015-05': 15.78, '2015-06': 15.29, '2015-07': 15.64, '2015-08': 15.77, '2015-09': 15.68, '2015-10': 15.59, '2015-11': 14.98, '2015-12': 12.91, '2015-13': 12.91, '2014-01': 6.05, '2014-02': 6.2, '2014-03': 6.92, '2014-04': 7.33, '2014-05': 7.59, '2014-06': 7.8, '2014-07': 7.45, '2014-08': 7.56, '2014-09': 8.03, '2014-10': 8.3, '2014-11': 9.07, '2014-12': 11.36, '2014-13': 11.36, '2013-01': 7.07, '2013-02': 7.28, '2013-03': 7.02, '2013-04': 7.23, '2013-05': 7.38, '2013-06': 6.88, '2013-07': 6.45, '2013-08': 6.49, '2013-09': 6.13, '2013-10': 6.25, '2013-11': 6.48, '2013-12': 6.45, '2013-13': 6.45, '2012-01': 4.16, '2012-02': 3.74, '2012-03': 3.7, '2012-04': 3.57, '2012-05': 3.61, '2012-06': 4.3, '2012-07': 5.59, '2012-08': 5.95, '2012-09': 6.58, '2012-10': 6.55, '2012-11': 6.47, '2012-12': 6.58, '2012-13': 6.58, '2011-01': 9.56, '2011-02': 9.47, '2011-03': 9.46, '2011-04': 9.61, '2011-05': 9.59, '2011-06': 9.42, '2011-07': 9.01, '2011-08': 8.16, '2011-09': 7.21, '2011-10': 7.19, '2011-11': 6.78, '2011-12': 6.1, '2011-13': 6.1, '2010-01': 8.02, '2010-02': 7.18, '2010-03': 6.46, '2010-04': 6.04, '2010-05': 5.97, '2010-06': 5.74, '2010-07': 5.46, '2010-08': 6.04, '2010-09': 6.96, '2010-10': 7.5, '2010-11': 8.06, '2010-12': 8.78, '2010-13': 8.78, '2009-01': 13.35, '2009-02': 13.85, '2009-03': 13.98, '2009-04': 13.16, '2009-05': 12.28, '2009-06': 11.87, '2009-07': 12.01, '2009-08': 11.6, '2009-09': 10.69, '2009-10': 9.69, '2009-11': 9.1, '2009-12': 8.8, '2009-13': 8.8, '2008-01': 12.56, '2008-02': 12.66, '2008-03': 13.35, '2008-04': 14.3, '2008-05': 15.12, '2008-06': 15.14, '2008-07': 14.73, '2008-08': 15.04, '2008-09': 15.05, '2008-10': 14.23, '2008-11': 13.78, '2008-12': 13.28, '2008-13': 13.28, '2007-01': 8.2, '2007-02': 7.61, '2007-03': 7.37, '2007-04': 7.6, '2007-05': 7.76, '2007-06': 8.48, '2007-07': 8.7, '2007-08': 8.59, '2007-09': 9.35, '2007-10': 10.83, '2007-11': 11.49, '2007-12': 11.87, '2007-13': 11.87, '2006-01': 10.71, '2006-02': 11.18, '2006-03': 10.61, '2006-04': 9.77, '2006-05': 9.42, '2006-06': 9.03, '2006-07': 9.26, '2006-08': 9.62, '2006-09': 9.44, '2006-10': 9.15, '2006-11': 9.03, '2006-12': 9.0, '2006-13': 9.0, '2005-01': 12.7, '2005-02': 12.96, '2005-03': 13.63, '2005-04': 13.77, '2005-05': 13.84, '2005-06': 13.68, '2005-07': 13.16, '2005-08': 12.53, '2005-09': 12.33, '2005-10': 11.68, '2005-11': 11.27, '2005-12': 10.91, '2005-13': 10.91, '2004-01': 11.28, '2004-02': 10.58, '2004-03': 10.25, '2004-04': 10.22, '2004-05': 10.15, '2004-06': 10.13, '2004-07': 10.36, '2004-08': 11.28, '2004-09': 11.38, '2004-10': 11.53, '2004-11': 11.7, '2004-12': 11.74, '2004-13': 11.74, '2003-01': 14.29, '2003-02': 14.82, '2003-03': 14.78, '2003-04': 14.62, '2003-05': 13.62, '2003-06': 13.93, '2003-07': 13.91, '2003-08': 13.35, '2003-09': 13.28, '2003-10': 13.2, '2003-11': 12.48, '2003-12': 11.99, '2003-13': 11.99, '2002-01': 18.96, '2002-02': 17.66, '2002-03': 16.76, '2002-04': 16.04, '2002-05': 15.94, '2002-06': 14.69, '2002-07': 15.0, '2002-08': 15.09, '2002-09': 14.86, '2002-10': 14.84, '2002-11': 15.12, '2002-12': 15.06, '2002-13': 15.06, '2001-01': 20.71, '2001-02': 22.19, '2001-03': 23.67, '2001-04': 24.77, '2001-05': 24.81, '2001-06': 23.68, '2001-07': 22.05, '2001-08': 20.88, '2001-09': 20.02, '2001-10': 18.82, '2001-11': 18.63, '2001-12': 18.58, '2001-13': 18.58, '2000-01': 28.93, '2000-02': 25.11, '2000-03': 22.49, '2000-04': 19.95, '2000-05': 19.4, '2000-06': 20.15, '2000-07': 18.94, '2000-08': 18.73, '2000-09': 18.54, '2000-10': 19.41, '2000-11': 19.75, '2000-12': 20.2, '2000-13': 20.2, '1999-01': 96.92, '1999-02': 103.24, '1999-03': 107.58, '1999-04': 113.06, '1999-05': 116.71, '1999-06': 120.67, '1999-07': 126.51, '1999-08': 121.03, '1999-09': 62.03, '1999-10': 57.12, '1999-11': 50.52, '1999-12': 36.56, '1999-13': 36.56, '1998-01': 10.13, '1998-02': 9.43, '1998-03': 8.57, '1998-04': 7.95, '1998-05': 7.48, '1998-06': 6.4, '1998-07': 5.59, '1998-08': 9.62, '1998-09': 52.21, '1998-10': 58.85, '1998-11': 66.84, '1998-12': 84.44, '1998-13': 84.44, '1997-01': 19.74, '1997-02': 18.28, '1997-03': 16.71, '1997-04': 15.34, '1997-05': 14.59, '1997-06': 14.51, '1997-07': 14.75, '1997-08': 14.83, '1997-09': 14.11, '1997-10': 12.95, '1997-11': 11.54, '1997-12': 11.03, '1997-13': 11.03, '1996-01': 104.5, '1996-02': 89.34, '1996-03': 78.66, '1996-04': 68.27, '1996-05': 58.4, '1996-06': 50.25, '1996-07': 43.6, '1996-08': 37.05, '1996-09': 31.63, '1996-10': 27.21, '1996-11': 23.95, '1996-12': 21.81, '1996-13': 21.81, '1995-01': 214.68, '1995-02': 215.24, '1995-03': 219.73, '1995-04': 219.68, '1995-05': 222.73, '1995-06': 224.73, '1995-07': 224.89, '1995-08': 224.7, '1995-09': 214.18, '1995-10': 186.09, '1995-11': 161.0, '1995-12': 131.33, '1995-13': 131.33, '1994-01': 780.85, '1994-02': 682.8, '1994-03': 600.09, '1994-04': 539.87, '1994-05': 479.24, '1994-06': 412.09, '1994-07': 340.71, '1994-08': 265.93, '1994-09': 221.19, '1994-10': 209.09, '1994-11': 204.36, '1994-12': 215.02, '1994-13': 215.02, '1993-01': 850.46, '1993-02': 758.85, '1993-03': 694.06, '1993-04': 674.49, '1993-05': 717.4, '1993-06': 722.89, '1993-07': 810.61, '1993-08': 956.51, '1993-09': 1065.47, '1993-10': 1033.23, '1993-11': 945.97, '1993-12': 839.87, '1993-13': 839.87, 'nan': 0}"
   ]
  },
  {
   "cell_type": "markdown",
   "metadata": {},
   "source": [
    "Ну и теперь рассмотрим дату прихода и ухода клиента как значение инфляции в этом месяце"
   ]
  },
  {
   "cell_type": "code",
   "execution_count": 7,
   "metadata": {},
   "outputs": [],
   "source": [
    "def only_month(x):\n",
    "    if x != x:\n",
    "        return \"nan\"\n",
    "    xarr = x.split(\"-\")\n",
    "    return xarr[0] + \"-\" + xarr[1]\n",
    "\n",
    "df_alone['frst_pmnt_date'] = df_alone[\"frst_pmnt_date\"].apply(lambda x: only_month(x))\n",
    "df_alone['lst_pmnt_date_per_qrtr'] = df_alone[\"lst_pmnt_date_per_qrtr\"].apply(lambda x: only_month(x))"
   ]
  },
  {
   "cell_type": "code",
   "execution_count": 8,
   "metadata": {},
   "outputs": [],
   "source": [
    "df_alone[\"frst_pmnt_date\"] = df_alone[\"frst_pmnt_date\"].replace(infl)\n",
    "df_alone[\"lst_pmnt_date_per_qrtr\"] = df_alone[\"lst_pmnt_date_per_qrtr\"].replace(infl)"
   ]
  },
  {
   "cell_type": "markdown",
   "metadata": {},
   "source": [
    "Тут блок со всеми фичами, кроме region\n",
    "\n",
    "Изначально мы брали только пулл числовых признаков и экспериментировали на них, может на некоторых делали OneHot или Label\n",
    "\n",
    "Постепенно добавляя признаки пришли все кроме region\n",
    "\n",
    "region кодировался MeanTarget, но это не давало пользы"
   ]
  },
  {
   "cell_type": "markdown",
   "metadata": {},
   "source": [
    "Разделение на тренировочную и валидационную"
   ]
  },
  {
   "cell_type": "code",
   "execution_count": 13,
   "metadata": {},
   "outputs": [],
   "source": [
    "X = df_alone.drop(['churn', 'region'], axis=1)\n",
    "y = df_alone['churn']"
   ]
  },
  {
   "cell_type": "code",
   "execution_count": 14,
   "metadata": {},
   "outputs": [],
   "source": [
    "from sklearn.model_selection import train_test_split\n",
    "\n",
    "X_train, X_val, y_train, y_val = train_test_split(X, y, test_size=0.2, random_state=778)"
   ]
  },
  {
   "cell_type": "markdown",
   "metadata": {},
   "source": [
    "Тесты с нормировками и калибровкой"
   ]
  },
  {
   "cell_type": "code",
   "execution_count": 27,
   "metadata": {},
   "outputs": [],
   "source": [
    "# from sklearn.pipeline import Pipeline\n",
    "# from sklearn.compose import ColumnTransformer\n",
    "# from sklearn.preprocessing import StandardScaler\n",
    "\n",
    "# preprocessor = ColumnTransformer(\n",
    "#     transformers=[\n",
    "#         ('num', StandardScaler(), num_features),\n",
    "#         # ('cat', OneHotEncoder(drop='first'), categorical_cols)\n",
    "#     ])\n",
    "\n",
    "# pipeline = Pipeline(steps=[('preprocessor', preprocessor)])\n",
    "# X_train_enc = pipeline.fit_transform(X_train_enc)\n",
    "# X_val_enc = pipeline.transform(X_val_enc)"
   ]
  },
  {
   "cell_type": "code",
   "execution_count": 32,
   "metadata": {},
   "outputs": [],
   "source": [
    "# from imblearn.over_sampling import SMOTE\n",
    "\n",
    "# smote = SMOTE(random_state=42)\n",
    "# X_train_enc, y_train = smote.fit_resample(X_train_enc, y_train)"
   ]
  },
  {
   "cell_type": "markdown",
   "metadata": {},
   "source": [
    "Обучение модели с подобранными гиперпараметрами"
   ]
  },
  {
   "cell_type": "code",
   "execution_count": 15,
   "metadata": {},
   "outputs": [
    {
     "name": "stdout",
     "output_type": "stream",
     "text": [
      "0:\tlearn: 0.4230924\ttest: 0.4261288\tbest: 0.4261288 (0)\ttotal: 272ms\tremaining: 45m 19s\n",
      "100:\tlearn: 0.6479089\ttest: 0.6443152\tbest: 0.6443152 (100)\ttotal: 11.8s\tremaining: 19m 13s\n",
      "200:\tlearn: 0.7036957\ttest: 0.7006619\tbest: 0.7006619 (200)\ttotal: 23.3s\tremaining: 18m 57s\n",
      "300:\tlearn: 0.7255879\ttest: 0.7217273\tbest: 0.7217273 (300)\ttotal: 34.5s\tremaining: 18m 33s\n",
      "400:\tlearn: 0.7392750\ttest: 0.7350418\tbest: 0.7350418 (400)\ttotal: 45.8s\tremaining: 18m 16s\n",
      "500:\tlearn: 0.7489578\ttest: 0.7438085\tbest: 0.7438469 (496)\ttotal: 57.1s\tremaining: 18m 3s\n",
      "600:\tlearn: 0.7551541\ttest: 0.7496267\tbest: 0.7496267 (600)\ttotal: 1m 8s\tremaining: 17m 48s\n",
      "700:\tlearn: 0.7597299\ttest: 0.7528892\tbest: 0.7529158 (696)\ttotal: 1m 19s\tremaining: 17m 32s\n",
      "800:\tlearn: 0.7651900\ttest: 0.7562638\tbest: 0.7562638 (800)\ttotal: 1m 30s\tremaining: 17m 19s\n",
      "900:\tlearn: 0.7685516\ttest: 0.7580390\tbest: 0.7582822 (892)\ttotal: 1m 41s\tremaining: 17m 5s\n",
      "1000:\tlearn: 0.7725016\ttest: 0.7604124\tbest: 0.7610448 (986)\ttotal: 1m 52s\tremaining: 16m 52s\n",
      "1100:\tlearn: 0.7761627\ttest: 0.7629003\tbest: 0.7630170 (1086)\ttotal: 2m 3s\tremaining: 16m 39s\n",
      "1200:\tlearn: 0.7794735\ttest: 0.7648347\tbest: 0.7648347 (1200)\ttotal: 2m 14s\tremaining: 16m 26s\n",
      "1300:\tlearn: 0.7827848\ttest: 0.7658579\tbest: 0.7658579 (1300)\ttotal: 2m 25s\tremaining: 16m 14s\n",
      "1400:\tlearn: 0.7848395\ttest: 0.7671289\tbest: 0.7671289 (1396)\ttotal: 2m 36s\tremaining: 16m 3s\n",
      "1500:\tlearn: 0.7872886\ttest: 0.7683639\tbest: 0.7684889 (1491)\ttotal: 2m 47s\tremaining: 15m 50s\n",
      "1600:\tlearn: 0.7891323\ttest: 0.7690514\tbest: 0.7694102 (1589)\ttotal: 2m 58s\tremaining: 15m 38s\n",
      "1700:\tlearn: 0.7909561\ttest: 0.7699016\tbest: 0.7702134 (1694)\ttotal: 3m 9s\tremaining: 15m 24s\n",
      "1800:\tlearn: 0.7926958\ttest: 0.7702052\tbest: 0.7704395 (1736)\ttotal: 3m 20s\tremaining: 15m 12s\n",
      "1900:\tlearn: 0.7944220\ttest: 0.7708513\tbest: 0.7710770 (1886)\ttotal: 3m 31s\tremaining: 15m\n",
      "2000:\tlearn: 0.7959925\ttest: 0.7716687\tbest: 0.7716687 (2000)\ttotal: 3m 42s\tremaining: 14m 50s\n",
      "2100:\tlearn: 0.7976259\ttest: 0.7728491\tbest: 0.7728491 (2100)\ttotal: 3m 53s\tremaining: 14m 39s\n",
      "2200:\tlearn: 0.7984468\ttest: 0.7727480\tbest: 0.7731041 (2113)\ttotal: 4m 4s\tremaining: 14m 26s\n",
      "2300:\tlearn: 0.7998003\ttest: 0.7724124\tbest: 0.7731041 (2113)\ttotal: 4m 15s\tremaining: 14m 15s\n",
      "2400:\tlearn: 0.8011874\ttest: 0.7738252\tbest: 0.7738252 (2399)\ttotal: 4m 26s\tremaining: 14m 4s\n",
      "2500:\tlearn: 0.8028868\ttest: 0.7741805\tbest: 0.7742196 (2499)\ttotal: 4m 37s\tremaining: 13m 52s\n",
      "2600:\tlearn: 0.8039088\ttest: 0.7736173\tbest: 0.7743598 (2505)\ttotal: 4m 48s\tremaining: 13m 40s\n",
      "2700:\tlearn: 0.8052181\ttest: 0.7738972\tbest: 0.7743598 (2505)\ttotal: 4m 59s\tremaining: 13m 29s\n",
      "2800:\tlearn: 0.8063646\ttest: 0.7744866\tbest: 0.7747339 (2762)\ttotal: 5m 10s\tremaining: 13m 18s\n",
      "2900:\tlearn: 0.8077247\ttest: 0.7745711\tbest: 0.7747339 (2762)\ttotal: 5m 21s\tremaining: 13m 7s\n",
      "3000:\tlearn: 0.8092435\ttest: 0.7751211\tbest: 0.7754011 (2985)\ttotal: 5m 32s\tremaining: 12m 56s\n",
      "3100:\tlearn: 0.8105721\ttest: 0.7758334\tbest: 0.7761360 (3089)\ttotal: 5m 43s\tremaining: 12m 44s\n",
      "3200:\tlearn: 0.8114955\ttest: 0.7755102\tbest: 0.7761691 (3105)\ttotal: 5m 54s\tremaining: 12m 33s\n",
      "3300:\tlearn: 0.8127366\ttest: 0.7756439\tbest: 0.7761691 (3105)\ttotal: 6m 5s\tremaining: 12m 22s\n",
      "3400:\tlearn: 0.8138168\ttest: 0.7765738\tbest: 0.7765738 (3399)\ttotal: 6m 16s\tremaining: 12m 11s\n",
      "3500:\tlearn: 0.8150102\ttest: 0.7769545\tbest: 0.7770161 (3499)\ttotal: 6m 28s\tremaining: 12m\n",
      "3600:\tlearn: 0.8159705\ttest: 0.7775987\tbest: 0.7776938 (3535)\ttotal: 6m 40s\tremaining: 11m 50s\n",
      "3700:\tlearn: 0.8170384\ttest: 0.7774307\tbest: 0.7777218 (3603)\ttotal: 6m 52s\tremaining: 11m 42s\n",
      "3800:\tlearn: 0.8179770\ttest: 0.7776211\tbest: 0.7778170 (3784)\ttotal: 7m 5s\tremaining: 11m 33s\n",
      "3900:\tlearn: 0.8191048\ttest: 0.7773190\tbest: 0.7778170 (3784)\ttotal: 7m 17s\tremaining: 11m 23s\n",
      "4000:\tlearn: 0.8205024\ttest: 0.7776211\tbest: 0.7778561 (3970)\ttotal: 7m 29s\tremaining: 11m 14s\n",
      "4100:\tlearn: 0.8211883\ttest: 0.7781134\tbest: 0.7781247 (4093)\ttotal: 7m 41s\tremaining: 11m 4s\n",
      "4200:\tlearn: 0.8222095\ttest: 0.7786390\tbest: 0.7786390 (4200)\ttotal: 7m 54s\tremaining: 10m 54s\n",
      "4300:\tlearn: 0.8230003\ttest: 0.7780350\tbest: 0.7788011 (4201)\ttotal: 8m 6s\tremaining: 10m 44s\n",
      "4400:\tlearn: 0.8240269\ttest: 0.7784431\tbest: 0.7788011 (4201)\ttotal: 8m 18s\tremaining: 10m 33s\n",
      "4500:\tlearn: 0.8251679\ttest: 0.7782532\tbest: 0.7788011 (4201)\ttotal: 8m 29s\tremaining: 10m 22s\n",
      "4600:\tlearn: 0.8261432\ttest: 0.7782810\tbest: 0.7788011 (4201)\ttotal: 8m 40s\tremaining: 10m 10s\n",
      "4700:\tlearn: 0.8270431\ttest: 0.7780069\tbest: 0.7788011 (4201)\ttotal: 8m 51s\tremaining: 9m 59s\n",
      "4800:\tlearn: 0.8278241\ttest: 0.7782919\tbest: 0.7788011 (4201)\ttotal: 9m 2s\tremaining: 9m 47s\n",
      "4900:\tlearn: 0.8289839\ttest: 0.7785377\tbest: 0.7788011 (4201)\ttotal: 9m 13s\tremaining: 9m 35s\n",
      "5000:\tlearn: 0.8297732\ttest: 0.7783588\tbest: 0.7788011 (4201)\ttotal: 9m 24s\tremaining: 9m 23s\n",
      "5100:\tlearn: 0.8308148\ttest: 0.7783757\tbest: 0.7788011 (4201)\ttotal: 9m 35s\tremaining: 9m 12s\n",
      "5200:\tlearn: 0.8313793\ttest: 0.7787548\tbest: 0.7788278 (5165)\ttotal: 9m 46s\tremaining: 9m\n",
      "5300:\tlearn: 0.8319834\ttest: 0.7784251\tbest: 0.7788278 (5165)\ttotal: 9m 56s\tremaining: 8m 49s\n",
      "5400:\tlearn: 0.8330149\ttest: 0.7785255\tbest: 0.7788278 (5165)\ttotal: 10m 7s\tremaining: 8m 37s\n",
      "5500:\tlearn: 0.8338750\ttest: 0.7784473\tbest: 0.7790161 (5466)\ttotal: 10m 19s\tremaining: 8m 26s\n",
      "5600:\tlearn: 0.8346017\ttest: 0.7783860\tbest: 0.7790161 (5466)\ttotal: 10m 31s\tremaining: 8m 15s\n",
      "5700:\tlearn: 0.8353570\ttest: 0.7785646\tbest: 0.7790161 (5466)\ttotal: 10m 43s\tremaining: 8m 5s\n",
      "5800:\tlearn: 0.8360430\ttest: 0.7779173\tbest: 0.7790161 (5466)\ttotal: 10m 55s\tremaining: 7m 54s\n",
      "5900:\tlearn: 0.8369192\ttest: 0.7785087\tbest: 0.7790161 (5466)\ttotal: 11m 7s\tremaining: 7m 43s\n",
      "6000:\tlearn: 0.8376778\ttest: 0.7782633\tbest: 0.7790161 (5466)\ttotal: 11m 19s\tremaining: 7m 32s\n",
      "6100:\tlearn: 0.8385005\ttest: 0.7783692\tbest: 0.7790161 (5466)\ttotal: 11m 31s\tremaining: 7m 22s\n",
      "6200:\tlearn: 0.8391517\ttest: 0.7786589\tbest: 0.7791999 (6139)\ttotal: 11m 44s\tremaining: 7m 11s\n",
      "6300:\tlearn: 0.8399662\ttest: 0.7785976\tbest: 0.7791999 (6139)\ttotal: 11m 56s\tremaining: 7m\n",
      "6400:\tlearn: 0.8408867\ttest: 0.7787371\tbest: 0.7791999 (6139)\ttotal: 12m 8s\tremaining: 6m 49s\n",
      "6500:\tlearn: 0.8416462\ttest: 0.7789939\tbest: 0.7792169 (6487)\ttotal: 12m 20s\tremaining: 6m 38s\n",
      "6600:\tlearn: 0.8423188\ttest: 0.7787149\tbest: 0.7794841 (6555)\ttotal: 12m 31s\tremaining: 6m 27s\n",
      "6700:\tlearn: 0.8432445\ttest: 0.7788872\tbest: 0.7794841 (6555)\ttotal: 12m 43s\tremaining: 6m 15s\n",
      "6800:\tlearn: 0.8439378\ttest: 0.7788650\tbest: 0.7794841 (6555)\ttotal: 12m 54s\tremaining: 6m 4s\n",
      "6900:\tlearn: 0.8447388\ttest: 0.7791817\tbest: 0.7794841 (6555)\ttotal: 13m 6s\tremaining: 5m 53s\n",
      "7000:\tlearn: 0.8453676\ttest: 0.7796219\tbest: 0.7796219 (6998)\ttotal: 13m 18s\tremaining: 5m 41s\n",
      "7100:\tlearn: 0.8461684\ttest: 0.7793145\tbest: 0.7797443 (7015)\ttotal: 13m 30s\tremaining: 5m 30s\n",
      "7200:\tlearn: 0.8469668\ttest: 0.7788915\tbest: 0.7797443 (7015)\ttotal: 13m 41s\tremaining: 5m 19s\n",
      "7300:\tlearn: 0.8476576\ttest: 0.7793145\tbest: 0.7797443 (7015)\ttotal: 13m 52s\tremaining: 5m 7s\n",
      "7400:\tlearn: 0.8484513\ttest: 0.7794980\tbest: 0.7797443 (7015)\ttotal: 14m 3s\tremaining: 4m 56s\n",
      "7500:\tlearn: 0.8491142\ttest: 0.7794589\tbest: 0.7797443 (7015)\ttotal: 14m 14s\tremaining: 4m 44s\n",
      "7600:\tlearn: 0.8499082\ttest: 0.7791752\tbest: 0.7798767 (7532)\ttotal: 14m 26s\tremaining: 4m 33s\n",
      "7700:\tlearn: 0.8507024\ttest: 0.7791088\tbest: 0.7798767 (7532)\ttotal: 14m 38s\tremaining: 4m 22s\n",
      "7800:\tlearn: 0.8514085\ttest: 0.7795098\tbest: 0.7798767 (7532)\ttotal: 14m 50s\tremaining: 4m 10s\n",
      "7900:\tlearn: 0.8519118\ttest: 0.7795863\tbest: 0.7798988 (7873)\ttotal: 15m 3s\tremaining: 4m\n",
      "8000:\tlearn: 0.8526240\ttest: 0.7803778\tbest: 0.7803778 (7998)\ttotal: 15m 16s\tremaining: 3m 48s\n",
      "8100:\tlearn: 0.8534648\ttest: 0.7802385\tbest: 0.7805831 (8083)\ttotal: 15m 29s\tremaining: 3m 37s\n",
      "8200:\tlearn: 0.8542759\ttest: 0.7804218\tbest: 0.7805831 (8083)\ttotal: 15m 43s\tremaining: 3m 27s\n",
      "8300:\tlearn: 0.8549791\ttest: 0.7807663\tbest: 0.7809886 (8297)\ttotal: 15m 55s\tremaining: 3m 15s\n",
      "8400:\tlearn: 0.8557248\ttest: 0.7807101\tbest: 0.7810277 (8345)\ttotal: 16m 8s\tremaining: 3m 4s\n",
      "8500:\tlearn: 0.8561868\ttest: 0.7807101\tbest: 0.7810277 (8345)\ttotal: 16m 20s\tremaining: 2m 52s\n",
      "8600:\tlearn: 0.8569281\ttest: 0.7808933\tbest: 0.7810277 (8345)\ttotal: 16m 33s\tremaining: 2m 41s\n",
      "8700:\tlearn: 0.8574148\ttest: 0.7809324\tbest: 0.7811326 (8693)\ttotal: 16m 46s\tremaining: 2m 30s\n",
      "8800:\tlearn: 0.8581123\ttest: 0.7809371\tbest: 0.7811765 (8792)\ttotal: 16m 58s\tremaining: 2m 18s\n",
      "8900:\tlearn: 0.8587020\ttest: 0.7810153\tbest: 0.7811765 (8792)\ttotal: 17m 12s\tremaining: 2m 7s\n",
      "9000:\tlearn: 0.8593621\ttest: 0.7805269\tbest: 0.7811984 (8915)\ttotal: 17m 24s\tremaining: 1m 55s\n",
      "9100:\tlearn: 0.8601839\ttest: 0.7808761\tbest: 0.7811984 (8915)\ttotal: 17m 37s\tremaining: 1m 44s\n",
      "9200:\tlearn: 0.8608051\ttest: 0.7812375\tbest: 0.7813721 (9172)\ttotal: 17m 49s\tremaining: 1m 32s\n",
      "9300:\tlearn: 0.8614007\ttest: 0.7808761\tbest: 0.7813721 (9172)\ttotal: 18m\tremaining: 1m 21s\n",
      "9400:\tlearn: 0.8621379\ttest: 0.7809715\tbest: 0.7813721 (9172)\ttotal: 18m 12s\tremaining: 1m 9s\n",
      "9500:\tlearn: 0.8625873\ttest: 0.7812328\tbest: 0.7815160 (9471)\ttotal: 18m 24s\tremaining: 58s\n",
      "9600:\tlearn: 0.8631487\ttest: 0.7815378\tbest: 0.7815988 (9598)\ttotal: 18m 35s\tremaining: 46.4s\n",
      "9700:\tlearn: 0.8635961\ttest: 0.7816817\tbest: 0.7819647 (9685)\ttotal: 18m 46s\tremaining: 34.7s\n",
      "9800:\tlearn: 0.8641032\ttest: 0.7817691\tbest: 0.7819647 (9685)\ttotal: 18m 57s\tremaining: 23.1s\n",
      "9900:\tlearn: 0.8649518\ttest: 0.7817909\tbest: 0.7819647 (9685)\ttotal: 19m 8s\tremaining: 11.5s\n",
      "9999:\tlearn: 0.8656326\ttest: 0.7817782\tbest: 0.7820692 (9929)\ttotal: 19m 19s\tremaining: 0us\n",
      "\n",
      "bestTest = 0.7820692415\n",
      "bestIteration = 9929\n",
      "\n",
      "Shrink model to first 9930 iterations.\n",
      "F1-score: 0.782069241544927\n"
     ]
    }
   ],
   "source": [
    "from catboost import CatBoostClassifier\n",
    "from sklearn.metrics import f1_score\n",
    "from sklearn.model_selection import GridSearchCV\n",
    "\n",
    "model = CatBoostClassifier(\n",
    "    iterations=10000,\n",
    "    learning_rate=0.1,\n",
    "    loss_function='Logloss',\n",
    "    eval_metric='F1',\n",
    "    use_best_model=True,\n",
    ")\n",
    "\n",
    "model.fit(X_train, y_train, eval_set=(X_val, y_val), verbose=100)\n",
    "\n",
    "predictions = model.predict(X_val)\n",
    "\n",
    "f1 = f1_score(y_val, predictions)\n",
    "print(f\"F1-score: {f1}\")"
   ]
  },
  {
   "cell_type": "markdown",
   "metadata": {},
   "source": [
    "Видим F1-score и сохраняем модель"
   ]
  },
  {
   "cell_type": "code",
   "execution_count": 16,
   "metadata": {},
   "outputs": [],
   "source": [
    "model.save_model('catboost_model.cbm', format='cbm')"
   ]
  },
  {
   "cell_type": "markdown",
   "metadata": {},
   "source": [
    "## Часть TEST (тоже самое, что и в project-приложении)"
   ]
  },
  {
   "cell_type": "code",
   "execution_count": 17,
   "metadata": {},
   "outputs": [
    {
     "data": {
      "text/plain": [
       "633434"
      ]
     },
     "execution_count": 17,
     "metadata": {},
     "output_type": "execute_result"
    }
   ],
   "source": [
    "import pandas as pd\n",
    "import numpy as np\n",
    "\n",
    "df = pd.read_csv('test.csv', encoding='utf8')\n",
    "len(df)"
   ]
  },
  {
   "cell_type": "code",
   "execution_count": 18,
   "metadata": {},
   "outputs": [],
   "source": [
    "df_alone = df.copy()"
   ]
  },
  {
   "cell_type": "markdown",
   "metadata": {},
   "source": [
    "Делаем ту же предобработку"
   ]
  },
  {
   "cell_type": "code",
   "execution_count": 19,
   "metadata": {},
   "outputs": [],
   "source": [
    "def quarter_to_num(txt):\n",
    "    arr = txt.split('Q')\n",
    "    return int(arr[0]) * 4 + int(arr[1])\n",
    "\n",
    "df_alone['quarter'] = df_alone['quarter'].apply(lambda x: quarter_to_num(x))"
   ]
  },
  {
   "cell_type": "code",
   "execution_count": 20,
   "metadata": {},
   "outputs": [],
   "source": [
    "df_alone = df_alone.drop(columns=['client_id', 'npo_account_id', 'postal_code',])"
   ]
  },
  {
   "cell_type": "code",
   "execution_count": 21,
   "metadata": {},
   "outputs": [],
   "source": [
    "df_alone = pd.get_dummies(df_alone, columns=['slctn_nmbr'], prefix='slctn_nmbr', drop_first=True)"
   ]
  },
  {
   "cell_type": "code",
   "execution_count": 22,
   "metadata": {},
   "outputs": [],
   "source": [
    "def only_month(x):\n",
    "    if x != x:\n",
    "        return \"nan\"\n",
    "    xarr = x.split(\"-\")\n",
    "    return xarr[0] + \"-\" + xarr[1]\n",
    "\n",
    "df_alone['frst_pmnt_date'] = df_alone[\"frst_pmnt_date\"].apply(lambda x: only_month(x))\n",
    "df_alone['lst_pmnt_date_per_qrtr'] = df_alone[\"lst_pmnt_date_per_qrtr\"].apply(lambda x: only_month(x))"
   ]
  },
  {
   "cell_type": "code",
   "execution_count": 23,
   "metadata": {},
   "outputs": [],
   "source": [
    "df_alone[\"frst_pmnt_date\"] = df_alone[\"frst_pmnt_date\"].replace(infl)\n",
    "df_alone[\"lst_pmnt_date_per_qrtr\"] = df_alone[\"lst_pmnt_date_per_qrtr\"].replace(infl)"
   ]
  },
  {
   "cell_type": "code",
   "execution_count": 24,
   "metadata": {},
   "outputs": [],
   "source": [
    "X = df_alone.drop(['region'], axis=1)"
   ]
  },
  {
   "cell_type": "code",
   "execution_count": 25,
   "metadata": {},
   "outputs": [],
   "source": [
    "test_pred = model.predict(X)"
   ]
  },
  {
   "cell_type": "markdown",
   "metadata": {},
   "source": [
    "Делаем inference"
   ]
  },
  {
   "cell_type": "code",
   "execution_count": 26,
   "metadata": {},
   "outputs": [],
   "source": [
    "df['churn'] = test_pred"
   ]
  },
  {
   "cell_type": "code",
   "execution_count": 27,
   "metadata": {},
   "outputs": [],
   "source": [
    "df_test = df[['npo_account_id', 'quarter', 'churn']]"
   ]
  },
  {
   "cell_type": "code",
   "execution_count": 28,
   "metadata": {},
   "outputs": [
    {
     "data": {
      "text/html": [
       "<div>\n",
       "<style scoped>\n",
       "    .dataframe tbody tr th:only-of-type {\n",
       "        vertical-align: middle;\n",
       "    }\n",
       "\n",
       "    .dataframe tbody tr th {\n",
       "        vertical-align: top;\n",
       "    }\n",
       "\n",
       "    .dataframe thead th {\n",
       "        text-align: right;\n",
       "    }\n",
       "</style>\n",
       "<table border=\"1\" class=\"dataframe\">\n",
       "  <thead>\n",
       "    <tr style=\"text-align: right;\">\n",
       "      <th></th>\n",
       "      <th>npo_account_id</th>\n",
       "      <th>quarter</th>\n",
       "      <th>churn</th>\n",
       "    </tr>\n",
       "  </thead>\n",
       "  <tbody>\n",
       "    <tr>\n",
       "      <th>0</th>\n",
       "      <td>0xAA9E8DDF1310724995598EA2B42D7D87</td>\n",
       "      <td>2017Q2</td>\n",
       "      <td>0</td>\n",
       "    </tr>\n",
       "    <tr>\n",
       "      <th>1</th>\n",
       "      <td>0x3B9B09857D152F468A42C5DEE6D723F7</td>\n",
       "      <td>2021Q4</td>\n",
       "      <td>0</td>\n",
       "    </tr>\n",
       "    <tr>\n",
       "      <th>2</th>\n",
       "      <td>0xA7F12C768A4FB38311E835E4A7632E00</td>\n",
       "      <td>2015Q3</td>\n",
       "      <td>0</td>\n",
       "    </tr>\n",
       "    <tr>\n",
       "      <th>3</th>\n",
       "      <td>0xBFE4BDFBE0E037478C29BA4F38121B15</td>\n",
       "      <td>2015Q3</td>\n",
       "      <td>0</td>\n",
       "    </tr>\n",
       "    <tr>\n",
       "      <th>4</th>\n",
       "      <td>0x4B5C7804E403C842B4ECBF69BC3EDD7C</td>\n",
       "      <td>2011Q3</td>\n",
       "      <td>0</td>\n",
       "    </tr>\n",
       "    <tr>\n",
       "      <th>...</th>\n",
       "      <td>...</td>\n",
       "      <td>...</td>\n",
       "      <td>...</td>\n",
       "    </tr>\n",
       "    <tr>\n",
       "      <th>633429</th>\n",
       "      <td>0x3086DA482BB98F4CB01FBFBCF699B603</td>\n",
       "      <td>2022Q3</td>\n",
       "      <td>0</td>\n",
       "    </tr>\n",
       "    <tr>\n",
       "      <th>633430</th>\n",
       "      <td>0x44CA6910C3C5904BA87936C53926BABC</td>\n",
       "      <td>2020Q2</td>\n",
       "      <td>0</td>\n",
       "    </tr>\n",
       "    <tr>\n",
       "      <th>633431</th>\n",
       "      <td>0xA62A005056964A2C11ED7C7CECEF8EC0</td>\n",
       "      <td>2022Q4</td>\n",
       "      <td>0</td>\n",
       "    </tr>\n",
       "    <tr>\n",
       "      <th>633432</th>\n",
       "      <td>0xABCE12A6F911374E96C7CB080F45C900</td>\n",
       "      <td>2021Q2</td>\n",
       "      <td>0</td>\n",
       "    </tr>\n",
       "    <tr>\n",
       "      <th>633433</th>\n",
       "      <td>0x3999B032031B054C8F1A5C4F57811F3C</td>\n",
       "      <td>2021Q1</td>\n",
       "      <td>0</td>\n",
       "    </tr>\n",
       "  </tbody>\n",
       "</table>\n",
       "<p>633434 rows × 3 columns</p>\n",
       "</div>"
      ],
      "text/plain": [
       "                            npo_account_id quarter  churn\n",
       "0       0xAA9E8DDF1310724995598EA2B42D7D87  2017Q2      0\n",
       "1       0x3B9B09857D152F468A42C5DEE6D723F7  2021Q4      0\n",
       "2       0xA7F12C768A4FB38311E835E4A7632E00  2015Q3      0\n",
       "3       0xBFE4BDFBE0E037478C29BA4F38121B15  2015Q3      0\n",
       "4       0x4B5C7804E403C842B4ECBF69BC3EDD7C  2011Q3      0\n",
       "...                                    ...     ...    ...\n",
       "633429  0x3086DA482BB98F4CB01FBFBCF699B603  2022Q3      0\n",
       "633430  0x44CA6910C3C5904BA87936C53926BABC  2020Q2      0\n",
       "633431  0xA62A005056964A2C11ED7C7CECEF8EC0  2022Q4      0\n",
       "633432  0xABCE12A6F911374E96C7CB080F45C900  2021Q2      0\n",
       "633433  0x3999B032031B054C8F1A5C4F57811F3C  2021Q1      0\n",
       "\n",
       "[633434 rows x 3 columns]"
      ]
     },
     "execution_count": 28,
     "metadata": {},
     "output_type": "execute_result"
    }
   ],
   "source": [
    "df_test"
   ]
  },
  {
   "cell_type": "markdown",
   "metadata": {},
   "source": [
    "Сохраняем"
   ]
  },
  {
   "cell_type": "code",
   "execution_count": 151,
   "metadata": {},
   "outputs": [],
   "source": [
    "df_test.to_csv('try3.csv', index=False)"
   ]
  }
 ],
 "metadata": {
  "kernelspec": {
   "display_name": "Python 3",
   "language": "python",
   "name": "python3"
  },
  "language_info": {
   "codemirror_mode": {
    "name": "ipython",
    "version": 3
   },
   "file_extension": ".py",
   "mimetype": "text/x-python",
   "name": "python",
   "nbconvert_exporter": "python",
   "pygments_lexer": "ipython3",
   "version": "3.8.2"
  }
 },
 "nbformat": 4,
 "nbformat_minor": 2
}
